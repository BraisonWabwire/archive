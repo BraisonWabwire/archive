{
 "cells": [
  {
   "cell_type": "code",
   "execution_count": 40,
   "id": "197f595e-518f-4647-8838-1116cb6203bf",
   "metadata": {},
   "outputs": [
    {
     "name": "stdout",
     "output_type": "stream",
     "text": [
      "Requirement already satisfied: yfinance in c:\\programdata\\anaconda3\\lib\\site-packages (0.2.40)\n",
      "Requirement already satisfied: pandas>=1.3.0 in c:\\programdata\\anaconda3\\lib\\site-packages (from yfinance) (2.2.2)\n",
      "Requirement already satisfied: numpy>=1.16.5 in c:\\programdata\\anaconda3\\lib\\site-packages (from yfinance) (1.26.4)\n",
      "Requirement already satisfied: requests>=2.31 in c:\\programdata\\anaconda3\\lib\\site-packages (from yfinance) (2.32.2)\n",
      "Requirement already satisfied: multitasking>=0.0.7 in c:\\programdata\\anaconda3\\lib\\site-packages (from yfinance) (0.0.11)\n",
      "Requirement already satisfied: lxml>=4.9.1 in c:\\programdata\\anaconda3\\lib\\site-packages (from yfinance) (5.2.1)\n",
      "Requirement already satisfied: platformdirs>=2.0.0 in c:\\programdata\\anaconda3\\lib\\site-packages (from yfinance) (3.10.0)\n",
      "Requirement already satisfied: pytz>=2022.5 in c:\\programdata\\anaconda3\\lib\\site-packages (from yfinance) (2024.1)\n",
      "Requirement already satisfied: frozendict>=2.3.4 in c:\\programdata\\anaconda3\\lib\\site-packages (from yfinance) (2.4.2)\n",
      "Requirement already satisfied: peewee>=3.16.2 in c:\\programdata\\anaconda3\\lib\\site-packages (from yfinance) (3.17.6)\n",
      "Requirement already satisfied: beautifulsoup4>=4.11.1 in c:\\programdata\\anaconda3\\lib\\site-packages (from yfinance) (4.12.3)\n",
      "Requirement already satisfied: html5lib>=1.1 in c:\\programdata\\anaconda3\\lib\\site-packages (from yfinance) (1.1)\n",
      "Requirement already satisfied: soupsieve>1.2 in c:\\programdata\\anaconda3\\lib\\site-packages (from beautifulsoup4>=4.11.1->yfinance) (2.5)\n",
      "Requirement already satisfied: six>=1.9 in c:\\programdata\\anaconda3\\lib\\site-packages (from html5lib>=1.1->yfinance) (1.16.0)\n",
      "Requirement already satisfied: webencodings in c:\\programdata\\anaconda3\\lib\\site-packages (from html5lib>=1.1->yfinance) (0.5.1)\n",
      "Requirement already satisfied: python-dateutil>=2.8.2 in c:\\programdata\\anaconda3\\lib\\site-packages (from pandas>=1.3.0->yfinance) (2.9.0.post0)\n",
      "Requirement already satisfied: tzdata>=2022.7 in c:\\programdata\\anaconda3\\lib\\site-packages (from pandas>=1.3.0->yfinance) (2023.3)\n",
      "Requirement already satisfied: charset-normalizer<4,>=2 in c:\\programdata\\anaconda3\\lib\\site-packages (from requests>=2.31->yfinance) (2.0.4)\n",
      "Requirement already satisfied: idna<4,>=2.5 in c:\\programdata\\anaconda3\\lib\\site-packages (from requests>=2.31->yfinance) (3.7)\n",
      "Requirement already satisfied: urllib3<3,>=1.21.1 in c:\\programdata\\anaconda3\\lib\\site-packages (from requests>=2.31->yfinance) (2.2.2)\n",
      "Requirement already satisfied: certifi>=2017.4.17 in c:\\programdata\\anaconda3\\lib\\site-packages (from requests>=2.31->yfinance) (2024.6.2)\n",
      "Note: you may need to restart the kernel to use updated packages.\n"
     ]
    }
   ],
   "source": [
    "pip install yfinance"
   ]
  },
  {
   "cell_type": "code",
   "execution_count": 41,
   "id": "f80f5bbc-e5c7-4015-b84e-2dbe7c5822c1",
   "metadata": {},
   "outputs": [
    {
     "name": "stdout",
     "output_type": "stream",
     "text": [
      "Requirement already satisfied: matplotlib in c:\\programdata\\anaconda3\\lib\\site-packages (3.8.4)Note: you may need to restart the kernel to use updated packages.\n",
      "\n",
      "Requirement already satisfied: contourpy>=1.0.1 in c:\\programdata\\anaconda3\\lib\\site-packages (from matplotlib) (1.2.0)\n",
      "Requirement already satisfied: cycler>=0.10 in c:\\programdata\\anaconda3\\lib\\site-packages (from matplotlib) (0.11.0)\n",
      "Requirement already satisfied: fonttools>=4.22.0 in c:\\programdata\\anaconda3\\lib\\site-packages (from matplotlib) (4.51.0)\n",
      "Requirement already satisfied: kiwisolver>=1.3.1 in c:\\programdata\\anaconda3\\lib\\site-packages (from matplotlib) (1.4.4)\n",
      "Requirement already satisfied: numpy>=1.21 in c:\\programdata\\anaconda3\\lib\\site-packages (from matplotlib) (1.26.4)\n",
      "Requirement already satisfied: packaging>=20.0 in c:\\programdata\\anaconda3\\lib\\site-packages (from matplotlib) (23.2)\n",
      "Requirement already satisfied: pillow>=8 in c:\\programdata\\anaconda3\\lib\\site-packages (from matplotlib) (10.3.0)\n",
      "Requirement already satisfied: pyparsing>=2.3.1 in c:\\programdata\\anaconda3\\lib\\site-packages (from matplotlib) (3.0.9)\n",
      "Requirement already satisfied: python-dateutil>=2.7 in c:\\programdata\\anaconda3\\lib\\site-packages (from matplotlib) (2.9.0.post0)\n",
      "Requirement already satisfied: six>=1.5 in c:\\programdata\\anaconda3\\lib\\site-packages (from python-dateutil>=2.7->matplotlib) (1.16.0)\n"
     ]
    }
   ],
   "source": [
    "pip install matplotlib"
   ]
  },
  {
   "cell_type": "code",
   "execution_count": 42,
   "id": "a836623b-c5e7-4391-bbea-94b2a822c9e2",
   "metadata": {},
   "outputs": [
    {
     "name": "stdout",
     "output_type": "stream",
     "text": [
      "Requirement already satisfied: scikit-learn in c:\\programdata\\anaconda3\\lib\\site-packages (1.4.2)\n",
      "Requirement already satisfied: numpy>=1.19.5 in c:\\programdata\\anaconda3\\lib\\site-packages (from scikit-learn) (1.26.4)\n",
      "Requirement already satisfied: scipy>=1.6.0 in c:\\programdata\\anaconda3\\lib\\site-packages (from scikit-learn) (1.13.1)\n",
      "Requirement already satisfied: joblib>=1.2.0 in c:\\programdata\\anaconda3\\lib\\site-packages (from scikit-learn) (1.4.2)\n",
      "Requirement already satisfied: threadpoolctl>=2.0.0 in c:\\programdata\\anaconda3\\lib\\site-packages (from scikit-learn) (2.2.0)\n",
      "Note: you may need to restart the kernel to use updated packages.\n"
     ]
    }
   ],
   "source": [
    "pip install scikit-learn"
   ]
  },
  {
   "cell_type": "code",
   "execution_count": 43,
   "id": "bbca6d64-e8b9-4cc9-8d89-37aa6ad907ed",
   "metadata": {},
   "outputs": [
    {
     "name": "stdout",
     "output_type": "stream",
     "text": [
      "Requirement already satisfied: numpy in c:\\programdata\\anaconda3\\lib\\site-packages (1.26.4)\n",
      "Note: you may need to restart the kernel to use updated packages.\n"
     ]
    }
   ],
   "source": [
    "pip install numpy"
   ]
  },
  {
   "cell_type": "code",
   "execution_count": 44,
   "id": "f9d540c5-173c-4b7d-8bec-ebe09b483009",
   "metadata": {},
   "outputs": [
    {
     "name": "stdout",
     "output_type": "stream",
     "text": [
      "Requirement already satisfied: pandas in c:\\programdata\\anaconda3\\lib\\site-packages (2.2.2)\n",
      "Requirement already satisfied: numpy>=1.26.0 in c:\\programdata\\anaconda3\\lib\\site-packages (from pandas) (1.26.4)\n",
      "Requirement already satisfied: python-dateutil>=2.8.2 in c:\\programdata\\anaconda3\\lib\\site-packages (from pandas) (2.9.0.post0)\n",
      "Requirement already satisfied: pytz>=2020.1 in c:\\programdata\\anaconda3\\lib\\site-packages (from pandas) (2024.1)\n",
      "Requirement already satisfied: tzdata>=2022.7 in c:\\programdata\\anaconda3\\lib\\site-packages (from pandas) (2023.3)\n",
      "Requirement already satisfied: six>=1.5 in c:\\programdata\\anaconda3\\lib\\site-packages (from python-dateutil>=2.8.2->pandas) (1.16.0)\n",
      "Note: you may need to restart the kernel to use updated packages.\n"
     ]
    }
   ],
   "source": [
    "pip install pandas"
   ]
  },
  {
   "cell_type": "code",
   "execution_count": 45,
   "id": "95dbf957-4e94-4663-8f2c-cb74dbcac627",
   "metadata": {},
   "outputs": [],
   "source": [
    "import yfinance as yf\n",
    "import pandas as pd\n",
    "import numpy as np\n",
    "import matplotlib.pyplot as plt\n",
    "from sklearn.preprocessing import StandardScaler\n",
    "from sklearn.model_selection import train_test_split\n",
    "from sklearn.neighbors import KNeighborsRegressor\n",
    "from sklearn.metrics import mean_squared_error, r2_score\n",
    "from sklearn.svm import SVR\n",
    "from sklearn.linear_model import BayesianRidge, LinearRegression\n",
    "from sklearn.ensemble import RandomForestRegressor"
   ]
  },
  {
   "cell_type": "code",
   "execution_count": 46,
   "id": "f07550e4-3b22-4772-bc96-eaac0e5cca6f",
   "metadata": {},
   "outputs": [
    {
     "name": "stderr",
     "output_type": "stream",
     "text": [
      "[*********************100%%**********************]  1 of 1 completed"
     ]
    },
    {
     "name": "stdout",
     "output_type": "stream",
     "text": [
      "                 Open       High        Low      Close  Adj Close     Volume\n",
      "Date                                                                        \n",
      "2020-01-02  74.059998  75.150002  73.797501  75.087502  72.960464  135480400\n",
      "2020-01-03  74.287498  75.144997  74.125000  74.357498  72.251144  146322800\n",
      "2020-01-06  73.447502  74.989998  73.187500  74.949997  72.826859  118387200\n",
      "2020-01-07  74.959999  75.224998  74.370003  74.597504  72.484329  108872000\n",
      "2020-01-08  74.290001  76.110001  74.290001  75.797501  73.650337  132079200\n"
     ]
    },
    {
     "name": "stderr",
     "output_type": "stream",
     "text": [
      "\n"
     ]
    }
   ],
   "source": [
    "ticker = 'AAPL'\n",
    "stock_data = yf.download(ticker, start='2020-01-01', end='2023-01-01')\n",
    "print(stock_data.head())"
   ]
  },
  {
   "cell_type": "code",
   "execution_count": 47,
   "id": "775c7ce6-3d6a-4a79-a354-54cb7cdebc10",
   "metadata": {},
   "outputs": [],
   "source": [
    "# Data storage\n",
    "stock_data.to_csv('AAPL_stock_data.csv')"
   ]
  },
  {
   "cell_type": "code",
   "execution_count": 48,
   "id": "d622011f-35b0-4abe-8582-01a17a276a88",
   "metadata": {},
   "outputs": [],
   "source": [
    "# Data cleaning\n",
    "stock_data = pd.read_csv('AAPL_stock_data.csv', index_col='Date', parse_dates=True)\n",
    "stock_data.isnull().sum()  # Check for missing values\n",
    "stock_data.dropna(inplace=True)  # Drop rows with missing values"
   ]
  },
  {
   "cell_type": "code",
   "execution_count": 49,
   "id": "44cab3b1-3832-41a9-af9b-e6f9adc5e782",
   "metadata": {},
   "outputs": [
    {
     "data": {
      "image/png": "[encoded data removed]",
      "text/plain": [
       "<Figure size 1000x500 with 1 Axes>"
      ]
     },
     "metadata": {},
     "output_type": "display_data"
    }
   ],
   "source": [
    "# Data exploration\n",
    "plt.figure(figsize=(10, 5))\n",
    "plt.plot(stock_data['Close'])\n",
    "plt.title('Stock Closing Prices')\n",
    "plt.xlabel('Date')\n",
    "plt.ylabel('Closing Price')\n",
    "plt.show()"
   ]
  },
  {
   "cell_type": "code",
   "execution_count": 50,
   "id": "ceedc000-6ad2-4c0d-a218-501314622626",
   "metadata": {},
   "outputs": [
    {
     "name": "stdout",
     "output_type": "stream",
     "text": [
      "             Open        High         Low       Close   Adj Close  \\\n",
      "count  756.000000  756.000000  756.000000  756.000000  756.000000   \n",
      "mean   130.231998  131.892775  128.614983  130.311812  128.230002   \n",
      "std     30.596429   30.841435   30.287325   30.566496   30.563733   \n",
      "min     57.020000   57.125000   53.152500   56.092499   54.632896   \n",
      "25%    115.924374  117.275000  114.129997  115.739374  113.236620   \n",
      "50%    135.794998  137.200005  133.750000  135.379997  133.632828   \n",
      "75%    150.259998  151.902504  149.029995  150.704998  148.914711   \n",
      "max    182.630005  182.940002  179.119995  182.009995  179.481110   \n",
      "\n",
      "             Volume  \n",
      "count  7.560000e+02  \n",
      "mean   1.120920e+08  \n",
      "std    5.602586e+07  \n",
      "min    3.519590e+07  \n",
      "25%    7.636470e+07  \n",
      "50%    9.493580e+07  \n",
      "75%    1.296327e+08  \n",
      "max    4.265100e+08  \n"
     ]
    }
   ],
   "source": [
    "print(stock_data.describe())"
   ]
  },
  {
   "cell_type": "code",
   "execution_count": 51,
   "id": "ce47f15f-f4f7-4c8d-8c23-9f51dd1a08ac",
   "metadata": {},
   "outputs": [],
   "source": [
    "# Data standardization\n",
    "scaler = StandardScaler()\n",
    "scaled_data = scaler.fit_transform(stock_data[['Close']])"
   ]
  },
  {
   "cell_type": "code",
   "execution_count": 52,
   "id": "4c1bbb0b-4d72-43d0-bca3-f98df8198468",
   "metadata": {},
   "outputs": [],
   "source": [
    "# Feature selection and data partitioning\n",
    "# Convert dates to numeric format\n",
    "X = np.arange(len(stock_data)).reshape(-1, 1)  # Using index positions as features\n",
    "y = stock_data['Close'].values\n",
    "\n",
    "X_train, X_test, y_train, y_test = train_test_split(X, y, test_size=0.2, random_state=42)"
   ]
  },
  {
   "cell_type": "code",
   "execution_count": 53,
   "id": "a20b6398-367c-4ac8-a097-2133d4b8f9ab",
   "metadata": {},
   "outputs": [
    {
     "name": "stdout",
     "output_type": "stream",
     "text": [
      "KNN MSE: 5.745478589149081\n"
     ]
    }
   ],
   "source": [
    "# KNN Model\n",
    "knn = KNeighborsRegressor(n_neighbors=5)\n",
    "knn.fit(X_train, y_train)\n",
    "y_pred_knn = knn.predict(X_test)\n",
    "print('KNN MSE:', mean_squared_error(y_test, y_pred_knn))"
   ]
  },
  {
   "cell_type": "code",
   "execution_count": 54,
   "id": "691c5807-21e1-4465-a2cf-cf6604c7bf6b",
   "metadata": {},
   "outputs": [
    {
     "name": "stdout",
     "output_type": "stream",
     "text": [
      "SVR MSE: 6.004651951426762\n"
     ]
    }
   ],
   "source": [
    "# Vector Machine (SVM) Models for Stock Quotes\n",
    "svr = SVR(kernel='rbf', C=100, gamma=0.1, epsilon=.1)\n",
    "svr.fit(X_train, y_train)\n",
    "y_pred_svr = svr.predict(X_test)\n",
    "print('SVR MSE:', mean_squared_error(y_test, y_pred_svr))"
   ]
  },
  {
   "cell_type": "code",
   "execution_count": 55,
   "id": "91e07660-cfd2-4c73-a852-f74a0e5b3365",
   "metadata": {},
   "outputs": [
    {
     "name": "stdout",
     "output_type": "stream",
     "text": [
      "Bayesian Ridge MSE: 300.6208455614407\n"
     ]
    }
   ],
   "source": [
    "# Bayesian Model for Stock Quotes\n",
    "bayesian_ridge = BayesianRidge()\n",
    "bayesian_ridge.fit(X_train, y_train)\n",
    "y_pred_bayes = bayesian_ridge.predict(X_test)\n",
    "print('Bayesian Ridge MSE:', mean_squared_error(y_test, y_pred_bayes))"
   ]
  },
  {
   "cell_type": "code",
   "execution_count": 56,
   "id": "a250737b-533a-4fa7-a139-404d9f743200",
   "metadata": {},
   "outputs": [
    {
     "name": "stdout",
     "output_type": "stream",
     "text": [
      "Random Forest MSE: 5.4208348025803765\n"
     ]
    }
   ],
   "source": [
    "# Random Forest Models for Stock Quotes\n",
    "rf = RandomForestRegressor(n_estimators=100)\n",
    "rf.fit(X_train, y_train)\n",
    "y_pred_rf = rf.predict(X_test)\n",
    "print('Random Forest MSE:', mean_squared_error(y_test, y_pred_rf))"
   ]
  },
  {
   "cell_type": "code",
   "execution_count": 57,
   "id": "28bb93c6-9728-4721-920c-6582ebf0b13e",
   "metadata": {},
   "outputs": [
    {
     "name": "stdout",
     "output_type": "stream",
     "text": [
      "KNN - MSE: 5.745478589149081, R2: 0.9943342542734953\n",
      "SVR - MSE: 6.004651951426762, R2: 0.9940786775888094\n",
      "Bayesian Ridge - MSE: 300.6208455614407, R2: 0.7035510193607357\n",
      "Random Forest - MSE: 5.4208348025803765, R2: 0.9946543928168469\n"
     ]
    }
   ],
   "source": [
    "# Model Comparison through Report and ROC\n",
    "models = {\n",
    "    'KNN': (y_test, y_pred_knn),\n",
    "    'SVR': (y_test, y_pred_svr),\n",
    "    'Bayesian Ridge': (y_test, y_pred_bayes),\n",
    "    'Random Forest': (y_test, y_pred_rf)\n",
    "}\n",
    "for name, (true, pred) in models.items():\n",
    "    print(f'{name} - MSE: {mean_squared_error(true, pred)}, R2: {r2_score(true, pred)}')"
   ]
  },
  {
   "cell_type": "code",
   "execution_count": 58,
   "id": "b470ef84-2309-40b0-b02f-203e2bde5e90",
   "metadata": {},
   "outputs": [
    {
     "name": "stdout",
     "output_type": "stream",
     "text": [
      "               Open      High       Low     Close  Adj Close    Volume\n",
      "Open       1.000000  0.999003  0.998742  0.997258   0.997201 -0.565022\n",
      "High       0.999003  1.000000  0.998609  0.998727   0.998719 -0.553469\n",
      "Low        0.998742  0.998609  1.000000  0.998780   0.998665 -0.580560\n",
      "Close      0.997258  0.998727  0.998780  1.000000   0.999914 -0.567390\n",
      "Adj Close  0.997201  0.998719  0.998665  0.999914   1.000000 -0.568377\n",
      "Volume    -0.565022 -0.553469 -0.580560 -0.567390  -0.568377  1.000000\n"
     ]
    }
   ],
   "source": [
    "# Analysis of factors affecting stock marketing\n",
    "# Correlation analysis\n",
    "correlations = stock_data.corr()\n",
    "print(correlations)"
   ]
  },
  {
   "cell_type": "code",
   "execution_count": 59,
   "id": "6ee13349-8830-4b38-be16-9a8f72b17c51",
   "metadata": {},
   "outputs": [
    {
     "name": "stdout",
     "output_type": "stream",
     "text": [
      "Regression Coefficients: [-3.09555966e-07]\n"
     ]
    }
   ],
   "source": [
    "# Regression analysis\n",
    "X_factors = stock_data[['Volume']]  # Example factor\n",
    "y_prices = stock_data['Close']\n",
    "lin_reg = LinearRegression()\n",
    "lin_reg.fit(X_factors, y_prices)\n",
    "y_pred_reg = lin_reg.predict(X_factors)\n",
    "print('Regression Coefficients:', lin_reg.coef_)"
   ]
  }
 ],
 "metadata": {
  "kernelspec": {
   "display_name": "Python 3 (ipykernel)",
   "language": "python",
   "name": "python3"
  },
  "language_info": {
   "codemirror_mode": {
    "name": "ipython",
    "version": 3
   },
   "file_extension": ".py",
   "mimetype": "text/x-python",
   "name": "python",
   "nbconvert_exporter": "python",
   "pygments_lexer": "ipython3",
   "version": "3.12.4"
  }
 },
 "nbformat": 4,
 "nbformat_minor": 5
}
